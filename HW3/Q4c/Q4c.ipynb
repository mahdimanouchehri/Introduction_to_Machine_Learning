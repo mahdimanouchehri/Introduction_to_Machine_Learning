{
 "cells": [
  {
   "cell_type": "code",
   "execution_count": 1,
   "metadata": {
    "id": "v5alOnjtlGfy",
    "pycharm": {
     "name": "#%%\n"
    }
   },
   "outputs": [],
   "source": [
    "import numpy as np\n",
    "import os\n",
    "import matplotlib.pyplot as plt\n",
    "import torch\n",
    "import torchvision\n",
    "import torchvision.transforms as transforms\n",
    "import torch.optim as optim\n",
    "import torch.nn as nn\n",
    "import torch.nn.functional as F"
   ]
  },
  {
   "attachments": {},
   "cell_type": "markdown",
   "metadata": {
    "id": "WGj-LMuWmx2q",
    "pycharm": {
     "name": "#%% md\n"
    }
   },
   "source": [
    "#### 3.1. Load Data:\n",
    "\n",
    "Complete the followed cell for data loading. \n",
    "In this cell you have to normalize, split and shuffle data for learning."
   ]
  },
  {
   "cell_type": "code",
   "execution_count": 2,
   "metadata": {
    "id": "kgv51um_lJiL",
    "pycharm": {
     "name": "#%%\n"
    }
   },
   "outputs": [
    {
     "name": "stdout",
     "output_type": "stream",
     "text": [
      "Downloading http://fashion-mnist.s3-website.eu-central-1.amazonaws.com/train-images-idx3-ubyte.gz\n",
      "Downloading http://fashion-mnist.s3-website.eu-central-1.amazonaws.com/train-images-idx3-ubyte.gz to ./data\\FashionMNIST\\raw\\train-images-idx3-ubyte.gz\n"
     ]
    },
    {
     "name": "stderr",
     "output_type": "stream",
     "text": [
      "100.0%\n"
     ]
    },
    {
     "name": "stdout",
     "output_type": "stream",
     "text": [
      "Extracting ./data\\FashionMNIST\\raw\\train-images-idx3-ubyte.gz to ./data\\FashionMNIST\\raw\n",
      "\n",
      "Downloading http://fashion-mnist.s3-website.eu-central-1.amazonaws.com/train-labels-idx1-ubyte.gz\n",
      "Downloading http://fashion-mnist.s3-website.eu-central-1.amazonaws.com/train-labels-idx1-ubyte.gz to ./data\\FashionMNIST\\raw\\train-labels-idx1-ubyte.gz\n"
     ]
    },
    {
     "name": "stderr",
     "output_type": "stream",
     "text": [
      "100.6%\n"
     ]
    },
    {
     "name": "stdout",
     "output_type": "stream",
     "text": [
      "Extracting ./data\\FashionMNIST\\raw\\train-labels-idx1-ubyte.gz to ./data\\FashionMNIST\\raw\n",
      "\n",
      "Downloading http://fashion-mnist.s3-website.eu-central-1.amazonaws.com/t10k-images-idx3-ubyte.gz\n",
      "Downloading http://fashion-mnist.s3-website.eu-central-1.amazonaws.com/t10k-images-idx3-ubyte.gz to ./data\\FashionMNIST\\raw\\t10k-images-idx3-ubyte.gz\n"
     ]
    },
    {
     "name": "stderr",
     "output_type": "stream",
     "text": [
      "100.0%\n"
     ]
    },
    {
     "name": "stdout",
     "output_type": "stream",
     "text": [
      "Extracting ./data\\FashionMNIST\\raw\\t10k-images-idx3-ubyte.gz to ./data\\FashionMNIST\\raw\n",
      "\n",
      "Downloading http://fashion-mnist.s3-website.eu-central-1.amazonaws.com/t10k-labels-idx1-ubyte.gz\n",
      "Downloading http://fashion-mnist.s3-website.eu-central-1.amazonaws.com/t10k-labels-idx1-ubyte.gz to ./data\\FashionMNIST\\raw\\t10k-labels-idx1-ubyte.gz\n"
     ]
    },
    {
     "name": "stderr",
     "output_type": "stream",
     "text": [
      "119.3%"
     ]
    },
    {
     "name": "stdout",
     "output_type": "stream",
     "text": [
      "Extracting ./data\\FashionMNIST\\raw\\t10k-labels-idx1-ubyte.gz to ./data\\FashionMNIST\\raw\n",
      "\n"
     ]
    },
    {
     "name": "stderr",
     "output_type": "stream",
     "text": [
      "\n"
     ]
    }
   ],
   "source": [
    "\n",
    "##################################################################################\n",
    "# Use 'torchvision.datasets.FashionMNIST' class for loading FashionMNIST   #\n",
    "# dataset. This dataset has 50000 data for training and 10000 data for test      #\n",
    "# and every data has shape (1*28*28).                                            #\n",
    "# Also Use 'torchvision.transforms.Compose' for common image transformations     #\n",
    "# such as normalization and use 'torch.utils.data.DataLoader' class that it      #\n",
    "# represents a Python iterable over a dataset and divides data to Batches.       #\n",
    "# Then Split data into 3 part: Train, Validation and Test. Finally,              #\n",
    "# save iterable data in 'trainloader', 'validationloader', 'testloader'.         #\n",
    "##################################################################################\n",
    "\n",
    "train_set = torchvision.datasets.FashionMNIST(\n",
    "    \"./data\",\n",
    "    download = True,\n",
    "    transform = transforms.Compose([transforms.ToTensor(),transforms.Normalize((0.5,), (0.5,))]))\n",
    "\n",
    "test_set = torchvision.datasets.FashionMNIST(\n",
    "    \"./data\",\n",
    "    download=True,\n",
    "    train=False,\n",
    "    transform = transforms.Compose([transforms.ToTensor(),transforms.Normalize((0.5,), (0.5,))]))\n",
    "\n",
    "\n",
    "\n",
    "training_data_train, training_data_validation = torch.utils.data.random_split(train_set, (50000, 10000))\n",
    "\n",
    "batch_size_train = 128\n",
    "batch_size_test =  128\n",
    "\n",
    "trainloader = torch.utils.data.DataLoader(train_set,batch_size_train) #(train_set, batch_size, shuffle=True)\n",
    "testloader = torch.utils.data.DataLoader(test_set,batch_size_test)    #(test_set, batch_size, shuffle=True)\n",
    "validationloader = torch.utils.data.DataLoader(training_data_validation, batch_size_train) #(validation, batch_size, shuffle=True)\n",
    "\n",
    "\n",
    "\n",
    "classes = ('T-shirt/top', 'Trouser', 'Pullover', 'Dress', 'Coat', 'Sandal', 'Shirt', 'Sneaker', 'Bag', 'Ankle boot')"
   ]
  },
  {
   "attachments": {},
   "cell_type": "markdown",
   "metadata": {
    "id": "wdLQ8BpxEoZ-",
    "pycharm": {
     "name": "#%% md\n"
    }
   },
   "source": [
    "#### 3.2. Load Data Test:"
   ]
  },
  {
   "cell_type": "code",
   "execution_count": 3,
   "metadata": {
    "id": "eaOeLN3klZ9F",
    "pycharm": {
     "name": "#%%\n"
    }
   },
   "outputs": [
    {
     "name": "stdout",
     "output_type": "stream",
     "text": [
      "The size and type of each batch in trainloader is:\n",
      "torch.Size([128, 1, 28, 28])\n",
      "<class 'torch.Tensor'>\n",
      "\n",
      "The size and type of each batch in testloader is:\n",
      "torch.Size([128, 1, 28, 28])\n",
      "<class 'torch.Tensor'>\n"
     ]
    }
   ],
   "source": [
    "############################################################\n",
    "# Run the following code an check the size of each batch   #\n",
    "############################################################\n",
    "examples = enumerate(trainloader)\n",
    "batch_idx, (example_data, example_targets) = next(examples)\n",
    "print('The size and type of each batch in ''trainloader'' is:')\n",
    "print(example_data.size())\n",
    "print(type(example_data))\n",
    "examples = enumerate(testloader)\n",
    "batch_idx, (example_data, example_targets) = next(examples)\n",
    "print('\\nThe size and type of each batch in ''testloader'' is:')\n",
    "print(example_data.size())\n",
    "print(type(example_data))"
   ]
  },
  {
   "cell_type": "code",
   "execution_count": 4,
   "metadata": {
    "id": "cPMpTd230hLY",
    "pycharm": {
     "name": "#%%\n"
    }
   },
   "outputs": [
    {
     "data": {
      "image/png": "[encoded data removed]",
      "text/plain": [
       "<Figure size 432x288 with 1 Axes>"
      ]
     },
     "metadata": {
      "needs_background": "light"
     },
     "output_type": "display_data"
    },
    {
     "data": {
      "image/png": "[encoded data removed]",
      "text/plain": [
       "<Figure size 432x288 with 1 Axes>"
      ]
     },
     "metadata": {
      "needs_background": "light"
     },
     "output_type": "display_data"
    },
    {
     "data": {
      "image/png": "[encoded data removed]",
      "text/plain": [
       "<Figure size 432x288 with 1 Axes>"
      ]
     },
     "metadata": {
      "needs_background": "light"
     },
     "output_type": "display_data"
    },
    {
     "data": {
      "image/png": "[encoded data removed]",
      "text/plain": [
       "<Figure size 432x288 with 1 Axes>"
      ]
     },
     "metadata": {
      "needs_background": "light"
     },
     "output_type": "display_data"
    }
   ],
   "source": [
    "#####################################################################\n",
    "# Run the following code and see some of the samples in the dataset #\n",
    "#####################################################################\n",
    "\n",
    "dataiter = iter(trainloader)\n",
    "images, labels = dataiter.next()\n",
    "\n",
    "# show images:\n",
    "for i in range(4):\n",
    "    img=torchvision.utils.make_grid(images[i])\n",
    "    ###########################################################\n",
    "    #  If you normalize data , here unnormalize them to see   # \n",
    "    #  them clear .                                            #\n",
    "    ###########################################################\n",
    "    m=0.5\n",
    "    s=0.5\n",
    "    img = img*s + m    # unnormalize\n",
    "    ###########################################################\n",
    "    #                   End of your code                      #\n",
    "    ###########################################################\n",
    "    npimg = img.numpy()\n",
    "    plt.imshow(np.transpose(npimg, (1,2, 0)))\n",
    "    plt.title(\"Target Labels: {}\".format(classes[labels[i]]))\n",
    "    plt.axis('off')\n",
    "    plt.show()\n",
    "   "
   ]
  },
  {
   "attachments": {},
   "cell_type": "markdown",
   "metadata": {
    "id": "TKpijVi0E1Zm",
    "pycharm": {
     "name": "#%% md\n"
    }
   },
   "source": [
    "#### 3.3. Network Design:\n",
    "Design the layer of your network and select proper hyperparameter. \n",
    "\n"
   ]
  },
  {
   "cell_type": "code",
   "execution_count": 5,
   "metadata": {
    "id": "V8nfR7jqxTBO",
    "pycharm": {
     "name": "#%%\n"
    }
   },
   "outputs": [],
   "source": [
    "######################################################################\n",
    "# Use 'torch.nn' module to design your network for CIFAR-10    #\n",
    "# classification. You have to implement the structure of MLP for it. #\n",
    "# In your design you don't have any limitation and you can use       #\n",
    "# Batch-norm layers, Drop-out layers and etc for generalization      #\n",
    "# improvement (if needed). Use classes and modules from 'torch.nn'.  #\n",
    "# In the following code, the 'MLP' class is your MLP network and     #\n",
    "# this class is inherited from nn.Module, so you can benefit         #\n",
    "# properties of the 'nn.Module'.You may complete '__init__()'        #\n",
    "# constructor by some classes like 'nn.ReLU()' or 'nn.Linear()'      #\n",
    "# to use them in the forward pass of your network.                   #\n",
    "######################################################################\n",
    "  \n",
    "class MLP(nn.Module):\n",
    "    def __init__(self, hidden_dim=150, keep_prob = 0.2):\n",
    "        super(MLP, self).__init__()\n",
    "        # todo\n",
    "        self.flatten = nn.Flatten()\n",
    "        self.linear_relu_stack = nn.Sequential(\n",
    "            nn.Linear(28*28, hidden_dim),\n",
    "            nn.ReLU(),\n",
    "            nn.Linear(hidden_dim, hidden_dim),\n",
    "            nn.ReLU(),\n",
    "            nn.Linear(hidden_dim, 10),\n",
    "        )\n",
    "        # pass\n",
    "\n",
    "    def forward(self, x):\n",
    "        # todo\n",
    "        x = self.flatten(x)\n",
    "        out = self.linear_relu_stack(x)\n",
    "        # pass\n",
    "        return out\n",
    "\n",
    "######################################################################\n",
    "#                          End of your code                          #\n",
    "######################################################################"
   ]
  },
  {
   "attachments": {},
   "cell_type": "markdown",
   "metadata": {
    "id": "1dGyL8c8E-Rb",
    "pycharm": {
     "name": "#%% md\n"
    }
   },
   "source": [
    "#### 3.4. Optimization Algorithm:"
   ]
  },
  {
   "cell_type": "code",
   "execution_count": 6,
   "metadata": {
    "id": "AXuefQ1GB7Ry",
    "pycharm": {
     "name": "#%%\n"
    }
   },
   "outputs": [],
   "source": [
    "#############################################################################\n",
    "#                                                                  #\n",
    "# 1- use classification cross-entropy loss                                  #\n",
    "# 2- use 'torch.optim' module for optimization                              #\n",
    "# 3- select optimization algorithm and its hyperparameter                   #\n",
    "#############################################################################\n",
    "net = MLP()\n",
    "learning_rate = 0.0001\n",
    "criterion = nn.CrossEntropyLoss()\n",
    "optimizer = torch.optim.Adam(net.parameters(), learning_rate) \n",
    "#############################################################################\n",
    "#                             End of your code                              #\n",
    "#############################################################################"
   ]
  },
  {
   "attachments": {},
   "cell_type": "markdown",
   "metadata": {
    "id": "3jL9GEnZFN-z",
    "pycharm": {
     "name": "#%% md\n"
    }
   },
   "source": [
    "#### 3.5. Training:\n",
    "You have to tweak `hidden_dim`, `leanirng_rate`, `weight_scale`, `num_epochs` and `reg` and etc to get a validation accuracy above 50%."
   ]
  },
  {
   "cell_type": "code",
   "execution_count": 7,
   "metadata": {
    "id": "zJdyD46TZY0t",
    "pycharm": {
     "name": "#%%\n"
    }
   },
   "outputs": [
    {
     "name": "stdout",
     "output_type": "stream",
     "text": [
      "(Epoch 1 / 25) train acc: 71.77%; val_acc: 80.52%\n",
      "(Epoch 2 / 25) train acc: 82.08%; val_acc: 83.45%\n",
      "(Epoch 3 / 25) train acc: 84.00%; val_acc: 84.83%\n",
      "(Epoch 4 / 25) train acc: 85.05%; val_acc: 85.74%\n",
      "(Epoch 5 / 25) train acc: 85.84%; val_acc: 86.42%\n",
      "(Epoch 6 / 25) train acc: 86.41%; val_acc: 86.91%\n",
      "(Epoch 7 / 25) train acc: 86.88%; val_acc: 87.33%\n",
      "(Epoch 8 / 25) train acc: 87.25%; val_acc: 87.78%\n",
      "(Epoch 9 / 25) train acc: 87.57%; val_acc: 88.01%\n",
      "(Epoch 10 / 25) train acc: 87.81%; val_acc: 88.23%\n",
      "(Epoch 11 / 25) train acc: 88.09%; val_acc: 88.53%\n",
      "(Epoch 12 / 25) train acc: 88.32%; val_acc: 88.72%\n",
      "(Epoch 13 / 25) train acc: 88.54%; val_acc: 88.91%\n",
      "(Epoch 14 / 25) train acc: 88.71%; val_acc: 89.03%\n",
      "(Epoch 15 / 25) train acc: 88.89%; val_acc: 89.21%\n",
      "(Epoch 16 / 25) train acc: 89.08%; val_acc: 89.50%\n",
      "(Epoch 17 / 25) train acc: 89.25%; val_acc: 89.76%\n",
      "(Epoch 18 / 25) train acc: 89.42%; val_acc: 89.86%\n",
      "(Epoch 19 / 25) train acc: 89.58%; val_acc: 90.03%\n",
      "(Epoch 20 / 25) train acc: 89.72%; val_acc: 90.16%\n",
      "(Epoch 21 / 25) train acc: 89.86%; val_acc: 90.33%\n",
      "(Epoch 22 / 25) train acc: 90.03%; val_acc: 90.53%\n",
      "(Epoch 23 / 25) train acc: 90.15%; val_acc: 90.53%\n",
      "(Epoch 24 / 25) train acc: 90.32%; val_acc: 90.64%\n",
      "(Epoch 25 / 25) train acc: 90.44%; val_acc: 90.72%\n"
     ]
    }
   ],
   "source": [
    "#######################################################\n",
    "# Feed the inputs data to the MLP network and   #\n",
    "# optimize Cross-Entropy loss by using target labels. #\n",
    "# Then update weights and biases.                     #\n",
    "#######################################################\n",
    "device = \"cuda\" if torch.cuda.is_available() else \"cpu\"\n",
    "num_epochs=25\n",
    "num_batchs = len(trainloader)\n",
    "for epoch in range(num_epochs):\n",
    "    total_train=0\n",
    "    correct_train=0\n",
    "    running_loss = 0.0\n",
    "    for batch, data in enumerate(trainloader, 0):\n",
    "        inputs, labels = data\n",
    "        # zero the parameter gradients:\n",
    "        optimizer.zero_grad()\n",
    "\n",
    "        # forward pass:\n",
    "        outputs = net(inputs)\n",
    "        loss = criterion(outputs, labels)\n",
    "\n",
    "        # backward pass:\n",
    "        loss.backward()\n",
    "\n",
    "        # optimization:\n",
    "        optimizer.step()\n",
    "        #############################################\n",
    "        #           End of your code                #\n",
    "        #############################################\n",
    "        \n",
    "\n",
    "        # Results: \n",
    "        running_loss += loss.item()\n",
    "\n",
    "        total_train += labels.size(0)\n",
    "        _, predicted_train = torch.max(outputs.data, 1)\n",
    "        correct_train += (predicted_train == labels.to(device)).sum().item()\n",
    "\n",
    "        if batch % (num_batchs/10) == ((num_batchs/10) -1):\n",
    "            print('[Batch %d / %d] loss: %.3f' %\n",
    "                  (batch + 1, num_batchs, running_loss / (num_batchs/10)))\n",
    "            running_loss = 0.0\n",
    "            torch.save(net.state_dict(), './model.pth')\n",
    "            torch.save(optimizer.state_dict(), './optimizer.pth')\n",
    "    correct = 0\n",
    "    total = 0\n",
    "    with torch.no_grad():\n",
    "        for data in validationloader:\n",
    "            images, labels = data\n",
    "            outputs = net(images.to(device))\n",
    "            _, predicted = torch.max(outputs.data, 1)\n",
    "            total += labels.size(0)\n",
    "            correct += (predicted == labels.to(device)).sum().item()\n",
    "    val_acc = correct / total\n",
    "    train_acc = correct_train / total_train\n",
    "    print('(Epoch %d / %d) train acc: %.2f%%; val_acc: %.2f%%' % (\n",
    "          epoch+1, num_epochs, 100*train_acc, 100*val_acc))"
   ]
  },
  {
   "attachments": {},
   "cell_type": "markdown",
   "metadata": {
    "id": "pLES_37SM6_N",
    "pycharm": {
     "name": "#%% md\n"
    }
   },
   "source": [
    "#### 3.6. Test: \n",
    "Run the following cell and test your network."
   ]
  },
  {
   "cell_type": "code",
   "execution_count": 8,
   "metadata": {
    "id": "lw4zW0GPM6cR",
    "pycharm": {
     "name": "#%%\n"
    }
   },
   "outputs": [
    {
     "name": "stdout",
     "output_type": "stream",
     "text": [
      "Accuracy of the network on the test images: 87.760000 %\n"
     ]
    }
   ],
   "source": [
    "correct = 0\n",
    "total = 0\n",
    "with torch.no_grad():\n",
    "    for data in testloader:\n",
    "        images, labels = data\n",
    "        outputs = net(images.to(device))\n",
    "        _, predicted = torch.max(outputs.data, 1)\n",
    "        total += labels.size(0)\n",
    "        correct += (predicted == labels.to(device)).sum().item()\n",
    "test_acc = correct / total\n",
    "print('Accuracy of the network on the test images: %2f %%' % (100 * test_acc ))"
   ]
  },
  {
   "cell_type": "code",
   "execution_count": 9,
   "metadata": {
    "id": "nrnQkpyENTrR",
    "pycharm": {
     "name": "#%%\n"
    }
   },
   "outputs": [
    {
     "name": "stdout",
     "output_type": "stream",
     "text": [
      "Accuracy of T-shirt/top : 83 %\n",
      "Accuracy of Trouser : 94 %\n",
      "Accuracy of Pullover : 67 %\n",
      "Accuracy of Dress : 82 %\n",
      "Accuracy of  Coat : 75 %\n",
      "Accuracy of Sandal : 96 %\n",
      "Accuracy of Shirt : 48 %\n",
      "Accuracy of Sneaker : 100 %\n",
      "Accuracy of   Bag : 96 %\n",
      "Accuracy of Ankle boot : 96 %\n"
     ]
    }
   ],
   "source": [
    "class_correct = list(0. for i in range(10))\n",
    "class_total = list(0. for i in range(10))\n",
    "with torch.no_grad():\n",
    "    for data in testloader:\n",
    "        images, labels = data\n",
    "        outputs = net(images.to(device))\n",
    "        _, predicted = torch.max(outputs, 1)\n",
    "        c = (predicted == labels.to(device)).squeeze()\n",
    "        for i in range(4):\n",
    "            label = labels[i]\n",
    "            class_correct[label] += c[i].item()\n",
    "            class_total[label] += 1\n",
    "\n",
    "\n",
    "for i in range(10):\n",
    "    print('Accuracy of %5s : %2d %%' % (classes[i], 100 * class_correct[i] / class_total[i]))"
   ]
  }
 ],
 "metadata": {
  "accelerator": "GPU",
  "colab": {
   "collapsed_sections": [],
   "name": "HW1-Q8.ipynb",
   "provenance": []
  },
  "kernelspec": {
   "display_name": "Python 3 (ipykernel)",
   "language": "python",
   "name": "python3"
  },
  "language_info": {
   "codemirror_mode": {
    "name": "ipython",
    "version": 3
   },
   "file_extension": ".py",
   "mimetype": "text/x-python",
   "name": "python",
   "nbconvert_exporter": "python",
   "pygments_lexer": "ipython3",
   "version": "3.9.7"
  }
 },
 "nbformat": 4,
 "nbformat_minor": 1
}
